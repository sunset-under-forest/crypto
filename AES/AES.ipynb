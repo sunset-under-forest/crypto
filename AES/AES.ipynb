{
 "cells": [
  {
   "cell_type": "markdown",
   "metadata": {},
   "source": [
    "###### 虽然复现AES这个版本的加解密脚本多少也花了我三四天时间，但是由于本质上没有太多难磕的陌生知识，最多就是在伽罗瓦域里面的一些运算规则和数论内矩阵相关乘法花了点时间去理解和复现代码，其他时间基本上是操作列表，偶尔给值加些运算符之类的，所以记录也就没有以前那么详细，理论上实现AES可能稍微复杂，但是真的不难，貌似还有其他版本的，到时候是否会改进脚本和学习深层次还要视需求而定\n",
    "\n"
   ]
  },
  {
   "cell_type": "code",
   "execution_count": 1,
   "metadata": {},
   "outputs": [],
   "source": [
    "message = b'hello, tomorrow.'\n",
    "key = b'GOODBYE, TODAY..'\n",
    "def getjuzhen(m):\n",
    "    '''排列成字节矩阵'''\n",
    "    juzheng = []\n",
    "    M=[]\n",
    "    for i in range(len(m)):\n",
    "        if (i+1)%4==0:\n",
    "            M.append(m[i])\n",
    "            juzheng.append(M)\n",
    "            M = []\n",
    "        else:\n",
    "            M.append(m[i]) \n",
    "\n",
    "    return juzheng\n",
    "       \n",
    "def addroundkey(m,k):\n",
    "    '''轮密钥加'''\n",
    "    mm = []\n",
    "    kk = []\n",
    "    r = []\n",
    "    for i in range(4):\n",
    "        rr = []\n",
    "        for j in range(4):\n",
    "            rr.append(m[i][j]^k[i][j])\n",
    "        r.append(rr)\n",
    "    return r\n",
    "\n",
    "def ext_gcd(a, b):    \n",
    "    if b == 0:          \n",
    "        return 1, 0, a     \n",
    "    else:         \n",
    "        x, y, gcd = ext_gcd(b, a % b) #递归直至余数等于0(需多递归一层用来判断)        \n",
    "        x, y = y, (x - (a // b) * y) #辗转相除法反向推导每层a、b的因子使得gcd(a,b)=ax+by成立         \n",
    "        return x, y, gcd\n",
    "\n",
    "def xtime(binnumber1):\n",
    "    '''GF域内的乘法算法之一'''\n",
    "    flag = 1\n",
    "    m = 0b100011011\n",
    "    m1 = 0b00011011\n",
    "    # ll2 = list(bin(binnumber2)[2:])\n",
    "    ll1 = list(bin(binnumber1)[2:].zfill(8))\n",
    "    p = len(ll1)\n",
    "    # print(ll1)\n",
    "    if ll1[0]=='0':\n",
    "        return binnumber1<<1\n",
    "    else:\n",
    "        # print(\"?\")\n",
    "        return (binnumber1<<1)^m\n",
    "\n",
    "def times(b1,b2):\n",
    "    '''GF域内的乘法'''\n",
    "    ll2 = list(bin(b2)[2:].zfill(8))\n",
    "    L = []\n",
    "    vv = b1\n",
    "    loc = len(ll2)-ll2.index('1')\n",
    "    # print(loc)\n",
    "    for i in range(loc):\n",
    "        L.append(vv)\n",
    "        vv = xtime(vv)\n",
    "    r = 0\n",
    "    j = 0\n",
    "    # print(L)\n",
    "    lm = ll2[-1::-1]\n",
    "    for i in range(len(lm)):\n",
    "        if lm[i]=='1':\n",
    "            # print(L[i])\n",
    "            r^=L[i]\n",
    "\n",
    "    return r\n",
    "\n",
    "def liancheng(l):\n",
    "    '''GF内3的幂'''\n",
    "    if l ==0:\n",
    "        return 1\n",
    "    r = 3\n",
    "    for i in range(l-1):\n",
    "        r = times(r, 3)\n",
    "    return r\n",
    "\n",
    "def getre1():\n",
    "    '''生成元查表求逆'''\n",
    "    re1={}\n",
    "    re1[0]=1\n",
    "    for i in range(1,255):\n",
    "        re1[i]=liancheng(i)\n",
    "    re1[255]=1\n",
    "    return re1\n",
    "re1 = getre1()\n",
    "\n",
    "def getre2():\n",
    "    '''生成逆表'''\n",
    "    re2={}\n",
    "    re2[1]=0\n",
    "    for i in range(1,255):\n",
    "        re2[liancheng(i)]=i\n",
    "    return re2\n",
    "re2 = getre2()\n",
    "\n",
    "def findinvert(b,re1,re2):\n",
    "    if b == 0:\n",
    "        return 0\n",
    "    lll = re2[b]\n",
    "    re = re1[255-lll]\n",
    "    return re\n",
    "\n",
    "def getsbox(b):\n",
    "    pl = bin(findinvert(b, re1, re2))[2:].zfill(8)\n",
    "    pppl = []\n",
    "    for i in pl:\n",
    "        pppl.append(int(i))\n",
    "    ppl = pppl[-1::-1]\n",
    "    m = []\n",
    "    c1 = (1*ppl[0]) ^ (0*ppl[1]) ^ (0*ppl[2]) ^ (0*ppl[3]) ^ (1*ppl[4]) ^ (1*ppl[5]) ^ (1*ppl[6]) ^ (1*ppl[7]) ^ 1 \n",
    "    c2 = (1*ppl[0]) ^ (1*ppl[1]) ^ (0*ppl[2]) ^ (0*ppl[3]) ^ (0*ppl[4]) ^ (1*ppl[5]) ^ (1*ppl[6]) ^ (1*ppl[7]) ^ 1 \n",
    "    c3 = (1*ppl[0]) ^ (1*ppl[1]) ^ (1*ppl[2]) ^ (0*ppl[3]) ^ (0*ppl[4]) ^ (0*ppl[5]) ^ (1*ppl[6]) ^ (1*ppl[7]) ^ 0 \n",
    "    c4 = (1*ppl[0]) ^ (1*ppl[1]) ^ (1*ppl[2]) ^ (1*ppl[3]) ^ (0*ppl[4]) ^ (0*ppl[5]) ^ (0*ppl[6]) ^ (1*ppl[7]) ^ 0 \n",
    "    c5 = (1*ppl[0]) ^ (1*ppl[1]) ^ (1*ppl[2]) ^ (1*ppl[3]) ^ (1*ppl[4]) ^ (0*ppl[5]) ^ (0*ppl[6]) ^ (0*ppl[7]) ^ 0 \n",
    "    c6 = (0*ppl[0]) ^ (1*ppl[1]) ^ (1*ppl[2]) ^ (1*ppl[3]) ^ (1*ppl[4]) ^ (1*ppl[5]) ^ (0*ppl[6]) ^ (0*ppl[7]) ^ 1 \n",
    "    c7 = (0*ppl[0]) ^ (0*ppl[1]) ^ (1*ppl[2]) ^ (1*ppl[3]) ^ (1*ppl[4]) ^ (1*ppl[5]) ^ (1*ppl[6]) ^ (0*ppl[7]) ^ 1 \n",
    "    c8 = (0*ppl[0]) ^ (0*ppl[1]) ^ (0*ppl[2]) ^ (1*ppl[3]) ^ (1*ppl[4]) ^ (1*ppl[5]) ^ (1*ppl[6]) ^ (1*ppl[7]) ^ 0 \n",
    "    m.append(c1)\n",
    "    m.append(c2)\n",
    "    m.append(c3)\n",
    "    m.append(c4)\n",
    "    m.append(c5)\n",
    "    m.append(c6)\n",
    "    m.append(c7)\n",
    "    m.append(c8)\n",
    "    bbb = ''.join(str(i) for i in m[-1::-1])\n",
    "    # return hex(int(bbb,2))\n",
    "    return int(bbb,2)\n",
    "\n",
    "def sbox():\n",
    "    sbox = {}\n",
    "    for i in range(256):\n",
    "        sbox[i]=getsbox(i)\n",
    "    return sbox\n",
    "# success!!!\n",
    "def ByteSubstitution(byte):\n",
    "    return sbox()[byte]\n",
    "\n",
    "\n",
    "jz1 = [[2, 1,1,3], [3,2,1,1], [1,3,2,1], [1,1,3,2]]\n",
    "jz2 = [[0xD4,0xBF,0x5D,0x30], [0x25,0x25,0x25,0x25], [0x25,0x25,0x25,0x25], [0x25,0x25,0x25,0x25]]\n",
    "def jztimes(jz1,jz2):\n",
    "    '''GF域下的矩阵乘法'''\n",
    "    r = []\n",
    "    for j in range(4):\n",
    "        rr = []\n",
    "        for i in range(4):\n",
    "            rr.append((times(jz1[0][i], jz2[j][0]) ^ times(jz1[1][i], jz2[j][1]) ^ times(jz1[2][i], jz2[j][2]) ^ times(jz1[3][i],jz2[j][3])))\n",
    "        r.append(rr)\n",
    "\n",
    "    return r\n",
    "    \n",
    "def MC(jz):\n",
    "    '''列混合'''\n",
    "    jz1 = [[2, 1,1,3], [3,2,1,1], [1,3,2,1], [1,1,3,2]]\n",
    "    return jztimes(jz1, jz)"
   ]
  },
  {
   "cell_type": "code",
   "execution_count": 3,
   "metadata": {},
   "outputs": [],
   "source": [
    "def BS(jz):\n",
    "    '''字节代换层'''\n",
    "    r=[]\n",
    "    for i in range(4):\n",
    "        rr = []\n",
    "        for j in range(4):\n",
    "            rr.append(ByteSubstitution(jz[i][j]))\n",
    "        r.append(rr)\n",
    "    return    r\n",
    "\n",
    "def wy(jz,j):\n",
    "    '''行间位移'''\n",
    "    nn = jz[:]\n",
    "    rr = []\n",
    "    for i in range(4):\n",
    "            x = jz[(i+j)%4][:]\n",
    "            y = nn[i%4][:]\n",
    "            y[j]=x[j]\n",
    "            \n",
    "            rr.append(y)\n",
    "    return rr\n",
    "\n",
    "def SR(jz):\n",
    "    '''行位移'''\n",
    "    r = jz\n",
    "    for i in range(1,4):\n",
    "        r = wy(r, i)\n",
    "        \n",
    "    return r   \n",
    "\n",
    "def danci(jz,k):\n",
    "    '''一轮加密'''\n",
    "    n1 = BS(jz)\n",
    "    n2 = SR(n1)\n",
    "    n3 = MC(n2)\n",
    "    r = addroundkey(n3, k)\n",
    "    return r\n",
    "    \n",
    "def G(k,time):\n",
    "    '''G函数处理密钥'''\n",
    "    nn = k[:]\n",
    "    for i in range(4):\n",
    "        x = k[(i+1)%4]\n",
    "        nn[i%4]=x\n",
    "    rr = nn[:]\n",
    "    # print(rr)\n",
    "    for i in range(4):\n",
    "        rr[i]=sbox()[nn[i]]\n",
    "    Rcon = [ 0X00,0x01, 0x02, 0x04, 0x08, 0x10, 0x20, 0x40, 0x80, 0x1B, 0x36]\n",
    "    rr[0]=rr[0]^Rcon[time]\n",
    "\n",
    "    return rr\n",
    "\n",
    "def oncekeywhitening(key,time):\n",
    "    '''一次密钥漂白'''\n",
    "    r = []\n",
    "    for i in range(4):\n",
    "        rr = []\n",
    "        for j in range(4):\n",
    "            if i==0:\n",
    "                rr.append(key[i][j]^G(key[3], time)[j])\n",
    "            else:\n",
    "                rr.append(key[i][j]^r[i-1][j])\n",
    "        r.append(rr)\n",
    "    return r\n",
    "\n",
    "def KW(key):\n",
    "    '''生成密钥列表'''\n",
    "    keys = [key]\n",
    "    \n",
    "    for i in range(1,11):\n",
    "        keys.append(oncekeywhitening(keys[i-1], i))\n",
    "    return keys\n",
    "\n",
    "def AES(m,k):\n",
    "    keys = KW(k)\n",
    "    c = addroundkey(m, keys[0])\n",
    "    # print(BS(c))\n",
    "    for i in range(1,10):\n",
    "        c=danci(c, keys[i])\n",
    "    c = BS(c)\n",
    "    c=SR(c)\n",
    "    c = addroundkey(c, keys[10])\n",
    "    return c\n"
   ]
  },
  {
   "cell_type": "code",
   "execution_count": 4,
   "metadata": {},
   "outputs": [],
   "source": [
    "m = getjuzhen(message)\n",
    "\n",
    "k = getjuzhen(key)"
   ]
  },
  {
   "cell_type": "code",
   "execution_count": 5,
   "metadata": {},
   "outputs": [
    {
     "data": {
      "text/plain": [
       "b'GOODBYE, TODAY..'"
      ]
     },
     "execution_count": 5,
     "metadata": {},
     "output_type": "execute_result"
    }
   ],
   "source": [
    "# 现在开始解密脚本\n",
    "# sbox()\n",
    "# {i:j for j,i in sbox().items()}\n",
    "\n",
    "def inv_sbox():\n",
    "    return {i:j for j,i in sbox().items()}\n",
    "# inv_box()\n",
    "\n",
    "def inv_BS(jz):\n",
    "    r=[]\n",
    "    for i in range(4):\n",
    "        rr = []\n",
    "        for j in range(4):\n",
    "            rr.append(inv_ByteSubstitution(jz[i][j]))\n",
    "        r.append(rr)\n",
    "    return    r\n",
    "\n",
    "def inv_ByteSubstitution(byte):\n",
    "    return inv_sbox()[byte]\n",
    "# inv_ByteSubstitution(0xdd)\n",
    "\n",
    "def inv_addroundkey(m, k):\n",
    "    return addroundkey(m, k)\n",
    "\n",
    "def inv_SR(jz):\n",
    "    for i in range(3):\n",
    "        jz = SR(jz)\n",
    "    return jz\n",
    "\n",
    "def inv_MC(jz):\n",
    "    jz2 = [[14, 9, 13, 11], [11, 14, 9, 13], [13, 11, 14, 9], [9, 13, 11, 14]]\n",
    "    return jztimes(jz2, jz)\n",
    "\n",
    "def decryptAES(c,k):\n",
    "    print('aaa')\n",
    "    state = getjuzhen(c)\n",
    "    keys = KW(getjuzhen(k))\n",
    "    # print(keys[-1])\n",
    "    state = inv_addroundkey(state, keys[-1])\n",
    "    state = inv_SR(state)\n",
    "    state = inv_BS(state)\n",
    "    \n",
    "    for i in range(1,10):\n",
    "        state = inv_addroundkey(state, keys[10-i])\n",
    "        state = inv_MC(state)\n",
    "        state = inv_SR(state)\n",
    "        state = inv_BS(state)\n",
    "    state = inv_addroundkey(state, keys[0])\n",
    "    return state\n",
    "\n",
    "def bytes2matrix(text):\n",
    "    \"\"\" Converts a 16-byte array into a 4x4 matrix.  \"\"\"\n",
    "    return [list(text[i:i+4]) for i in range(0, len(text), 4)]\n",
    "\n",
    "def matrix2bytes(matrix):\n",
    "    \"\"\" Converts a 4x4 matrix into a 16-byte array.  \"\"\"\n",
    "    # ????\n",
    "    r = b''\n",
    "    for i in matrix:\n",
    "        r+=bytes(i)\n",
    "\n",
    "    return r\n",
    "c = matrix2bytes(AES(m, k))\n",
    "key"
   ]
  },
  {
   "cell_type": "code",
   "execution_count": 6,
   "metadata": {},
   "outputs": [
    {
     "name": "stdout",
     "output_type": "stream",
     "text": [
      "aaa\n"
     ]
    },
    {
     "data": {
      "text/plain": [
       "[[104, 101, 108, 108],\n",
       " [111, 44, 32, 116],\n",
       " [111, 109, 111, 114],\n",
       " [114, 111, 119, 46]]"
      ]
     },
     "execution_count": 6,
     "metadata": {},
     "output_type": "execute_result"
    }
   ],
   "source": [
    "decryptAES(c, key)\n"
   ]
  },
  {
   "cell_type": "code",
   "execution_count": 7,
   "metadata": {},
   "outputs": [
    {
     "data": {
      "text/plain": [
       "b'GOODBYE, TODAY..'"
      ]
     },
     "execution_count": 7,
     "metadata": {},
     "output_type": "execute_result"
    }
   ],
   "source": [
    "key"
   ]
  },
  {
   "cell_type": "code",
   "execution_count": 10,
   "metadata": {},
   "outputs": [
    {
     "data": {
      "text/plain": [
       "b'\\xc3,\\\\\\xa6\\xb5\\x80^\\x0c\\xdb\\x8d\\xa5z*\\xb6\\xfe\\\\'"
      ]
     },
     "execution_count": 10,
     "metadata": {},
     "output_type": "execute_result"
    }
   ],
   "source": [
    "key"
   ]
  },
  {
   "cell_type": "code",
   "execution_count": 12,
   "metadata": {},
   "outputs": [
    {
     "data": {
      "text/plain": [
       "b'GOODBYE, TODAY..'"
      ]
     },
     "execution_count": 12,
     "metadata": {},
     "output_type": "execute_result"
    }
   ],
   "source": [
    "key"
   ]
  },
  {
   "cell_type": "code",
   "execution_count": 9,
   "metadata": {},
   "outputs": [
    {
     "data": {
      "text/plain": [
       "b'vQ\\xe7\\x9eq\\xc3\\x00\\x9d.fsT{\\xbb\\x1cV'"
      ]
     },
     "execution_count": 9,
     "metadata": {},
     "output_type": "execute_result"
    }
   ],
   "source": [
    "from Crypto.Cipher import AES\n",
    "cryptor = AES.new(key, AES.MODE_CBC,key)\n",
    "c = cryptor.encrypt(message)\n",
    "c"
   ]
  },
  {
   "cell_type": "code",
   "execution_count": null,
   "metadata": {},
   "outputs": [],
   "source": [
    "#https://zhuanlan.zhihu.com/p/41716899\n",
    "#https://bbs.pediy.com/thread-253884.htm#msg_header_h1_8\n",
    "\n",
    "#https://blog.csdn.net/sinat_36329095/article/details/106976277?utm_medium=distribute.pc_aggpage_search_result.none-task-blog-2~aggregatepage~first_rank_ecpm_v1~rank_v31_ecpm-1-106976277.pc_agg_new_rank&utm_term=aes%E9%87%8C%E9%9D%A2xtime%28%29%E8%BF%90%E7%AE%97&spm=1000.2123.3001.4430\n",
    "#https://blog.csdn.net/lplp9822/article/details/80906583\n",
    "\n",
    "#https://blog.csdn.net/zmnbehappy/article/details/78469850\n",
    "#https://zhuanlan.zhihu.com/p/41648498、\n"
   ]
  },
  {
   "cell_type": "code",
   "execution_count": null,
   "metadata": {},
   "outputs": [],
   "source": [
    "#加密脚本成功了，"
   ]
  },
  {
   "cell_type": "code",
   "execution_count": null,
   "metadata": {},
   "outputs": [],
   "source": []
  }
 ],
 "metadata": {
  "interpreter": {
   "hash": "4eaf1be304415beee96765ae99c3f893cc8312c7f1196698e6029668e9aeb3e5"
  },
  "kernelspec": {
   "display_name": "Python 3.9.7 64-bit",
   "language": "python",
   "name": "python3"
  },
  "language_info": {
   "codemirror_mode": {
    "name": "ipython",
    "version": 3
   },
   "file_extension": ".py",
   "mimetype": "text/x-python",
   "name": "python",
   "nbconvert_exporter": "python",
   "pygments_lexer": "ipython3",
   "version": "3.9.7"
  },
  "orig_nbformat": 4
 },
 "nbformat": 4,
 "nbformat_minor": 2
}
